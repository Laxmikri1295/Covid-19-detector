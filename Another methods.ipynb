{
 "cells": [
  {
   "cell_type": "code",
   "execution_count": 60,
   "metadata": {},
   "outputs": [],
   "source": [
    "import tensorflow as tf\n",
    "from tensorflow.keras import models,layers\n",
    "import matplotlib.pyplot as plt"
   ]
  },
  {
   "cell_type": "code",
   "execution_count": 61,
   "metadata": {},
   "outputs": [],
   "source": [
    "IMAGE_SIZE = 128\n",
    "BATCH_SIZE = 32"
   ]
  },
  {
   "cell_type": "code",
   "execution_count": 62,
   "metadata": {},
   "outputs": [
    {
     "name": "stdout",
     "output_type": "stream",
     "text": [
      "Found 6172 files belonging to 2 classes.\n"
     ]
    }
   ],
   "source": [
    "train = tf.keras.preprocessing.image_dataset_from_directory(\n",
    " r\"C:\\Users\\madhu sah\\Minor_project\\dataset\\train\",\n",
    "    shuffle=True,\n",
    "    image_size = (IMAGE_SIZE,IMAGE_SIZE),\n",
    "    batch_size = BATCH_SIZE\n",
    ")"
   ]
  },
  {
   "cell_type": "code",
   "execution_count": 63,
   "metadata": {},
   "outputs": [],
   "source": [
    "#train_ds = train.skip(6)"
   ]
  },
  {
   "cell_type": "code",
   "execution_count": 64,
   "metadata": {},
   "outputs": [
    {
     "name": "stdout",
     "output_type": "stream",
     "text": [
      "Found 1134 files belonging to 2 classes.\n"
     ]
    }
   ],
   "source": [
    "test =  tf.keras.preprocessing.image_dataset_from_directory(\n",
    " r\"C:\\Users\\madhu sah\\Minor_project\\dataset\\test\",\n",
    "    shuffle=True,\n",
    "    image_size = (IMAGE_SIZE,IMAGE_SIZE),\n",
    "    batch_size = BATCH_SIZE\n",
    ")"
   ]
  },
  {
   "cell_type": "code",
   "execution_count": 65,
   "metadata": {},
   "outputs": [],
   "source": [
    "#test_ds = train.skip(6)"
   ]
  },
  {
   "cell_type": "code",
   "execution_count": 66,
   "metadata": {},
   "outputs": [
    {
     "name": "stdout",
     "output_type": "stream",
     "text": [
      "Found 2090 files belonging to 2 classes.\n"
     ]
    }
   ],
   "source": [
    " valid = tf.keras.preprocessing.image_dataset_from_directory(\n",
    " r\"C:\\Users\\madhu sah\\Minor_project\\dataset\\validation\",\n",
    "    shuffle=True,\n",
    "    image_size = (IMAGE_SIZE,IMAGE_SIZE),\n",
    "    batch_size = BATCH_SIZE\n",
    ")"
   ]
  },
  {
   "cell_type": "code",
   "execution_count": 67,
   "metadata": {},
   "outputs": [],
   "source": [
    "#valid_ds = valid.skip(6)\n"
   ]
  },
  {
   "cell_type": "code",
   "execution_count": 68,
   "metadata": {},
   "outputs": [],
   "source": [
    "resize_and_rescale = tf.keras.Sequential([\n",
    "    layers.experimental.preprocessing.Resizing(IMAGE_SIZE,IMAGE_SIZE),\n",
    "    layers.experimental.preprocessing.Rescaling(1./255)\n",
    "])"
   ]
  },
  {
   "cell_type": "code",
   "execution_count": 69,
   "metadata": {},
   "outputs": [],
   "source": [
    "data_augmentation = tf.keras.Sequential([\n",
    "    layers.experimental.preprocessing.RandomFlip(\"horizontal_and_vertical\"),\n",
    "layers.experimental.preprocessing.RandomRotation(0.2)\n",
    "])"
   ]
  },
  {
   "cell_type": "code",
   "execution_count": 70,
   "metadata": {},
   "outputs": [],
   "source": [
    "input_shape = (BATCH_SIZE,IMAGE_SIZE,IMAGE_SIZE,3)\n",
    "model = models.Sequential([\n",
    "    resize_and_rescale,\n",
    "    data_augmentation,\n",
    "    layers.Conv2D(32,(3,3),activation='relu',input_shape=input_shape),\n",
    "    layers.MaxPooling2D((2,2)),\n",
    "    layers.Conv2D(64,kernel_size=(3,3), activation = 'relu'),\n",
    "    layers.MaxPooling2D((2,2)),\n",
    "    layers.Conv2D(64,kernel_size=(3,3), activation = 'relu'),\n",
    "    layers.MaxPooling2D((2,2)),\n",
    "    layers.Conv2D(64,kernel_size=(3,3), activation = 'relu'),\n",
    "    layers.MaxPooling2D((2,2)),\n",
    "    layers.Flatten(),\n",
    "    layers.Dense(64,activation='relu'),\n",
    "    layers.Dense(1,activation = 'sigmoid')\n",
    "    \n",
    "])\n",
    "model.build(input_shape=input_shape)\n",
    "#input_shape)"
   ]
  },
  {
   "cell_type": "code",
   "execution_count": 71,
   "metadata": {},
   "outputs": [
    {
     "name": "stdout",
     "output_type": "stream",
     "text": [
      "Model: \"sequential_17\"\n",
      "_________________________________________________________________\n",
      " Layer (type)                Output Shape              Param #   \n",
      "=================================================================\n",
      " sequential_15 (Sequential)  (32, 128, 128, 3)         0         \n",
      "                                                                 \n",
      " sequential_16 (Sequential)  (32, 128, 128, 3)         0         \n",
      "                                                                 \n",
      " conv2d_44 (Conv2D)          (32, 126, 126, 32)        896       \n",
      "                                                                 \n",
      " max_pooling2d_44 (MaxPoolin  (32, 63, 63, 32)         0         \n",
      " g2D)                                                            \n",
      "                                                                 \n",
      " conv2d_45 (Conv2D)          (32, 61, 61, 64)          18496     \n",
      "                                                                 \n",
      " max_pooling2d_45 (MaxPoolin  (32, 30, 30, 64)         0         \n",
      " g2D)                                                            \n",
      "                                                                 \n",
      " conv2d_46 (Conv2D)          (32, 28, 28, 64)          36928     \n",
      "                                                                 \n",
      " max_pooling2d_46 (MaxPoolin  (32, 14, 14, 64)         0         \n",
      " g2D)                                                            \n",
      "                                                                 \n",
      " conv2d_47 (Conv2D)          (32, 12, 12, 64)          36928     \n",
      "                                                                 \n",
      " max_pooling2d_47 (MaxPoolin  (32, 6, 6, 64)           0         \n",
      " g2D)                                                            \n",
      "                                                                 \n",
      " flatten_11 (Flatten)        (32, 2304)                0         \n",
      "                                                                 \n",
      " dense_22 (Dense)            (32, 64)                  147520    \n",
      "                                                                 \n",
      " dense_23 (Dense)            (32, 1)                   65        \n",
      "                                                                 \n",
      "=================================================================\n",
      "Total params: 240,833\n",
      "Trainable params: 240,833\n",
      "Non-trainable params: 0\n",
      "_________________________________________________________________\n"
     ]
    }
   ],
   "source": [
    "model.summary()"
   ]
  },
  {
   "cell_type": "code",
   "execution_count": 72,
   "metadata": {},
   "outputs": [],
   "source": [
    "model.compile(\n",
    "optimizer = 'adam',\n",
    " loss = 'binary_crossentropy',\n",
    " metrics=['accuracy']\n",
    ")"
   ]
  },
  {
   "cell_type": "code",
   "execution_count": 73,
   "metadata": {},
   "outputs": [
    {
     "name": "stdout",
     "output_type": "stream",
     "text": [
      "Epoch 1/10\n",
      "187/187 [==============================] - 109s 571ms/step - loss: 0.6486 - accuracy: 0.6147 - val_loss: 0.5742 - val_accuracy: 0.6749\n",
      "Epoch 2/10\n",
      "187/187 [==============================] - 110s 586ms/step - loss: 0.5598 - accuracy: 0.7064 - val_loss: 0.4763 - val_accuracy: 0.7650\n",
      "Epoch 3/10\n",
      "187/187 [==============================] - 108s 573ms/step - loss: 0.5241 - accuracy: 0.7237 - val_loss: 0.5125 - val_accuracy: 0.7144\n",
      "Epoch 4/10\n",
      "187/187 [==============================] - 132s 707ms/step - loss: 0.4981 - accuracy: 0.7441 - val_loss: 0.4646 - val_accuracy: 0.7634\n",
      "Epoch 5/10\n",
      "187/187 [==============================] - 129s 685ms/step - loss: 0.4858 - accuracy: 0.7517 - val_loss: 0.4379 - val_accuracy: 0.7908\n",
      "Epoch 6/10\n",
      "187/187 [==============================] - 134s 713ms/step - loss: 0.4638 - accuracy: 0.7684 - val_loss: 0.4371 - val_accuracy: 0.7877\n",
      "Epoch 7/10\n",
      "187/187 [==============================] - 196s 1s/step - loss: 0.4474 - accuracy: 0.7754 - val_loss: 0.4370 - val_accuracy: 0.7929\n",
      "Epoch 8/10\n",
      "187/187 [==============================] - 284s 2s/step - loss: 0.4397 - accuracy: 0.7824 - val_loss: 0.4060 - val_accuracy: 0.8014\n",
      "Epoch 9/10\n",
      "187/187 [==============================] - 283s 2s/step - loss: 0.4194 - accuracy: 0.8032 - val_loss: 0.3995 - val_accuracy: 0.8135\n",
      "Epoch 10/10\n",
      "187/187 [==============================] - 274s 1s/step - loss: 0.3924 - accuracy: 0.8162 - val_loss: 0.4059 - val_accuracy: 0.8151\n"
     ]
    }
   ],
   "source": [
    "history = model.fit(\n",
    "   train_ds,\n",
    "   epochs = 10,\n",
    "    batch_size = BATCH_SIZE,\n",
    "    verbose=1,\n",
    "    validation_data = valid_ds\n",
    "\n",
    ")"
   ]
  },
  {
   "cell_type": "code",
   "execution_count": 74,
   "metadata": {},
   "outputs": [],
   "source": [
    "from tensorflow.keras.applications import ResNet50"
   ]
  },
  {
   "cell_type": "code",
   "execution_count": null,
   "metadata": {},
   "outputs": [
    {
     "name": "stdout",
     "output_type": "stream",
     "text": [
      "Downloading data from https://storage.googleapis.com/tensorflow/keras-applications/resnet/resnet50_weights_tf_dim_ordering_tf_kernels_notop.h5\n",
      " 6496256/94765736 [=>............................] - ETA: 43:06"
     ]
    }
   ],
   "source": [
    "res_class = ResNet50(weights = 'imagenet', include_top=False, input_shape=(128,128,3))\n",
    "res_class.summary()"
   ]
  },
  {
   "cell_type": "code",
   "execution_count": null,
   "metadata": {},
   "outputs": [],
   "source": [
    "model_res = models.Sequential()\n",
    "model_res.add(con_class)"
   ]
  },
  {
   "cell_type": "code",
   "execution_count": null,
   "metadata": {},
   "outputs": [],
   "source": [
    "model_res.add(layers.Flatten())\n",
    "model_res.add(layers.Dense(512,activation='relu'))\n",
    "model_res.add(layers.Dense(512,activation='relu'))\n",
    "model_res.add(layers.Dense(1,activation = 'sigmoid'))"
   ]
  },
  {
   "cell_type": "code",
   "execution_count": null,
   "metadata": {},
   "outputs": [],
   "source": [
    "res_history = \n",
    " model_res.fit_generator(\n",
    "     train_ds,\n",
    "   epochs = 1,\n",
    "    batch_size = BATCH_SIZE,\n",
    "    verbose=1,\n",
    "    validation_data = valid_ds\n",
    " )"
   ]
  },
  {
   "cell_type": "code",
   "execution_count": null,
   "metadata": {},
   "outputs": [],
   "source": [
    "con_class = VGG19(weights = 'imagenet', include_top=False, input_shape=(128,128,3))\n",
    "model_vgg = models.Sequential()\n",
    "model_vgg.add(con_class)\n",
    "\n",
    "model_vgg.add(layers.Flatten())\n",
    "model_vgg.add(layers.Dense(128,activation = 'relu'))\n",
    "model_vgg.add(layers.Dense(1,activation = 'sigmoid'))"
   ]
  },
  {
   "cell_type": "code",
   "execution_count": null,
   "metadata": {},
   "outputs": [],
   "source": [
    "model_vgg.compile(\n",
    "optimizer = 'adam',\n",
    "loss='binary_crossentropy',\n",
    "metrics=['acc']\n",
    ")"
   ]
  },
  {
   "cell_type": "code",
   "execution_count": null,
   "metadata": {},
   "outputs": [],
   "source": [
    "res_history = \n",
    " model_res.fit_generator(\n",
    "     train_ds,\n",
    "   epochs = 1,\n",
    "    batch_size = BATCH_SIZE,\n",
    "    verbose=1,\n",
    "    validation_data = valid_ds\n",
    " )"
   ]
  }
 ],
 "metadata": {
  "kernelspec": {
   "display_name": "Python 3 (ipykernel)",
   "language": "python",
   "name": "python3"
  },
  "language_info": {
   "codemirror_mode": {
    "name": "ipython",
    "version": 3
   },
   "file_extension": ".py",
   "mimetype": "text/x-python",
   "name": "python",
   "nbconvert_exporter": "python",
   "pygments_lexer": "ipython3",
   "version": "3.9.7"
  }
 },
 "nbformat": 4,
 "nbformat_minor": 4
}
